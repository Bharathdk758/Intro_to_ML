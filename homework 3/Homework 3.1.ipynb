{
 "cells": [
  {
   "cell_type": "code",
   "execution_count": null,
   "id": "807b72ae",
   "metadata": {},
   "outputs": [],
   "source": [
    "# Bharath Kumar Duraisamy Krishnamoorthi\n",
    "# 801315134\n",
    "# Homework 3"
   ]
  },
  {
   "cell_type": "code",
   "execution_count": 17,
   "id": "f5266507",
   "metadata": {},
   "outputs": [],
   "source": [
    "#importing the necessary libraries\n",
    "\n",
    "import pandas as pd\n",
    "from sklearn.datasets import load_breast_cancer\n",
    "from sklearn.naive_bayes import GaussianNB\n",
    "from sklearn import metrics\n",
    "\n",
    "import numpy as np\n",
    "import matplotlib.pyplot as plt\n",
    "from sklearn.model_selection import KFold \n",
    "from sklearn.model_selection import cross_val_score \n",
    "from sklearn import datasets"
   ]
  },
  {
   "cell_type": "code",
   "execution_count": 11,
   "id": "9fc39ef6",
   "metadata": {},
   "outputs": [
    {
     "name": "stdout",
     "output_type": "stream",
     "text": [
      "(569, 30)\n"
     ]
    }
   ],
   "source": [
    "#loading the dataset\n",
    "\n",
    "breast = load_breast_cancer()\n",
    "X = breast.data\n",
    "print(X.shape)\n",
    "Y = breast.target"
   ]
  },
  {
   "cell_type": "code",
   "execution_count": 18,
   "id": "ef4fd475",
   "metadata": {},
   "outputs": [],
   "source": [
    "#train test split\n",
    "\n",
    "from sklearn.model_selection import train_test_split \n",
    "X_train, X_test, Y_train, Y_test = train_test_split(X, Y, test_size = 0.2, random_state=42)"
   ]
  },
  {
   "cell_type": "code",
   "execution_count": 24,
   "id": "994caf8e",
   "metadata": {},
   "outputs": [],
   "source": [
    "# scaling the dataset\n",
    "\n",
    "from sklearn.preprocessing import StandardScaler \n",
    "sc_X = StandardScaler() \n",
    "X_train = sc_X.fit_transform(X_train) \n",
    "X_test = sc_X.transform(X_test) "
   ]
  },
  {
   "cell_type": "code",
   "execution_count": 29,
   "id": "a8a0e496",
   "metadata": {},
   "outputs": [
    {
     "data": {
      "text/html": [
       "<div>\n",
       "<style scoped>\n",
       "    .dataframe tbody tr th:only-of-type {\n",
       "        vertical-align: middle;\n",
       "    }\n",
       "\n",
       "    .dataframe tbody tr th {\n",
       "        vertical-align: top;\n",
       "    }\n",
       "\n",
       "    .dataframe thead th {\n",
       "        text-align: right;\n",
       "    }\n",
       "</style>\n",
       "<table border=\"1\" class=\"dataframe\">\n",
       "  <thead>\n",
       "    <tr style=\"text-align: right;\">\n",
       "      <th></th>\n",
       "      <th>0</th>\n",
       "      <th>1</th>\n",
       "      <th>2</th>\n",
       "      <th>3</th>\n",
       "      <th>4</th>\n",
       "      <th>5</th>\n",
       "      <th>6</th>\n",
       "      <th>7</th>\n",
       "      <th>8</th>\n",
       "      <th>9</th>\n",
       "      <th>...</th>\n",
       "      <th>20</th>\n",
       "      <th>21</th>\n",
       "      <th>22</th>\n",
       "      <th>23</th>\n",
       "      <th>24</th>\n",
       "      <th>25</th>\n",
       "      <th>26</th>\n",
       "      <th>27</th>\n",
       "      <th>28</th>\n",
       "      <th>29</th>\n",
       "    </tr>\n",
       "  </thead>\n",
       "  <tbody>\n",
       "    <tr>\n",
       "      <th>0</th>\n",
       "      <td>-1.440753</td>\n",
       "      <td>-0.435319</td>\n",
       "      <td>-1.362085</td>\n",
       "      <td>-1.139118</td>\n",
       "      <td>0.780573</td>\n",
       "      <td>0.718921</td>\n",
       "      <td>2.823135</td>\n",
       "      <td>-0.119150</td>\n",
       "      <td>1.092662</td>\n",
       "      <td>2.458173</td>\n",
       "      <td>...</td>\n",
       "      <td>-1.232861</td>\n",
       "      <td>-0.476309</td>\n",
       "      <td>-1.247920</td>\n",
       "      <td>-0.973968</td>\n",
       "      <td>0.722894</td>\n",
       "      <td>1.186732</td>\n",
       "      <td>4.672828</td>\n",
       "      <td>0.932012</td>\n",
       "      <td>2.097242</td>\n",
       "      <td>1.886450</td>\n",
       "    </tr>\n",
       "    <tr>\n",
       "      <th>1</th>\n",
       "      <td>1.974096</td>\n",
       "      <td>1.733026</td>\n",
       "      <td>2.091672</td>\n",
       "      <td>1.851973</td>\n",
       "      <td>1.319843</td>\n",
       "      <td>3.426275</td>\n",
       "      <td>2.013112</td>\n",
       "      <td>2.665032</td>\n",
       "      <td>2.127004</td>\n",
       "      <td>1.558396</td>\n",
       "      <td>...</td>\n",
       "      <td>2.173314</td>\n",
       "      <td>1.311279</td>\n",
       "      <td>2.081617</td>\n",
       "      <td>2.137405</td>\n",
       "      <td>0.761928</td>\n",
       "      <td>3.265601</td>\n",
       "      <td>1.928621</td>\n",
       "      <td>2.698947</td>\n",
       "      <td>1.891161</td>\n",
       "      <td>2.497838</td>\n",
       "    </tr>\n",
       "    <tr>\n",
       "      <th>2</th>\n",
       "      <td>-1.399982</td>\n",
       "      <td>-1.249622</td>\n",
       "      <td>-1.345209</td>\n",
       "      <td>-1.109785</td>\n",
       "      <td>-1.332645</td>\n",
       "      <td>-0.307355</td>\n",
       "      <td>-0.365558</td>\n",
       "      <td>-0.696502</td>\n",
       "      <td>1.930333</td>\n",
       "      <td>0.954379</td>\n",
       "      <td>...</td>\n",
       "      <td>-1.295284</td>\n",
       "      <td>-1.040811</td>\n",
       "      <td>-1.245220</td>\n",
       "      <td>-0.999715</td>\n",
       "      <td>-1.438693</td>\n",
       "      <td>-0.548564</td>\n",
       "      <td>-0.644911</td>\n",
       "      <td>-0.970239</td>\n",
       "      <td>0.597602</td>\n",
       "      <td>0.057894</td>\n",
       "    </tr>\n",
       "    <tr>\n",
       "      <th>3</th>\n",
       "      <td>-0.981797</td>\n",
       "      <td>1.416222</td>\n",
       "      <td>-0.982587</td>\n",
       "      <td>-0.866944</td>\n",
       "      <td>0.059390</td>\n",
       "      <td>-0.596788</td>\n",
       "      <td>-0.820203</td>\n",
       "      <td>-0.845115</td>\n",
       "      <td>0.313264</td>\n",
       "      <td>0.074041</td>\n",
       "      <td>...</td>\n",
       "      <td>-0.829197</td>\n",
       "      <td>1.593530</td>\n",
       "      <td>-0.873572</td>\n",
       "      <td>-0.742947</td>\n",
       "      <td>0.796624</td>\n",
       "      <td>-0.729392</td>\n",
       "      <td>-0.774950</td>\n",
       "      <td>-0.809483</td>\n",
       "      <td>0.798928</td>\n",
       "      <td>-0.134497</td>\n",
       "    </tr>\n",
       "    <tr>\n",
       "      <th>4</th>\n",
       "      <td>-1.117700</td>\n",
       "      <td>-1.010259</td>\n",
       "      <td>-1.125002</td>\n",
       "      <td>-0.965942</td>\n",
       "      <td>1.269511</td>\n",
       "      <td>-0.439002</td>\n",
       "      <td>-0.983341</td>\n",
       "      <td>-0.930600</td>\n",
       "      <td>3.394436</td>\n",
       "      <td>0.950213</td>\n",
       "      <td>...</td>\n",
       "      <td>-1.085129</td>\n",
       "      <td>-1.334616</td>\n",
       "      <td>-1.117138</td>\n",
       "      <td>-0.896549</td>\n",
       "      <td>-0.174876</td>\n",
       "      <td>-0.995079</td>\n",
       "      <td>-1.209146</td>\n",
       "      <td>-1.354582</td>\n",
       "      <td>1.033544</td>\n",
       "      <td>-0.205732</td>\n",
       "    </tr>\n",
       "  </tbody>\n",
       "</table>\n",
       "<p>5 rows × 30 columns</p>\n",
       "</div>"
      ],
      "text/plain": [
       "         0         1         2         3         4         5         6   \\\n",
       "0 -1.440753 -0.435319 -1.362085 -1.139118  0.780573  0.718921  2.823135   \n",
       "1  1.974096  1.733026  2.091672  1.851973  1.319843  3.426275  2.013112   \n",
       "2 -1.399982 -1.249622 -1.345209 -1.109785 -1.332645 -0.307355 -0.365558   \n",
       "3 -0.981797  1.416222 -0.982587 -0.866944  0.059390 -0.596788 -0.820203   \n",
       "4 -1.117700 -1.010259 -1.125002 -0.965942  1.269511 -0.439002 -0.983341   \n",
       "\n",
       "         7         8         9   ...        20        21        22        23  \\\n",
       "0 -0.119150  1.092662  2.458173  ... -1.232861 -0.476309 -1.247920 -0.973968   \n",
       "1  2.665032  2.127004  1.558396  ...  2.173314  1.311279  2.081617  2.137405   \n",
       "2 -0.696502  1.930333  0.954379  ... -1.295284 -1.040811 -1.245220 -0.999715   \n",
       "3 -0.845115  0.313264  0.074041  ... -0.829197  1.593530 -0.873572 -0.742947   \n",
       "4 -0.930600  3.394436  0.950213  ... -1.085129 -1.334616 -1.117138 -0.896549   \n",
       "\n",
       "         24        25        26        27        28        29  \n",
       "0  0.722894  1.186732  4.672828  0.932012  2.097242  1.886450  \n",
       "1  0.761928  3.265601  1.928621  2.698947  1.891161  2.497838  \n",
       "2 -1.438693 -0.548564 -0.644911 -0.970239  0.597602  0.057894  \n",
       "3  0.796624 -0.729392 -0.774950 -0.809483  0.798928 -0.134497  \n",
       "4 -0.174876 -0.995079 -1.209146 -1.354582  1.033544 -0.205732  \n",
       "\n",
       "[5 rows x 30 columns]"
      ]
     },
     "execution_count": 29,
     "metadata": {},
     "output_type": "execute_result"
    }
   ],
   "source": [
    "breast_input = pd.DataFrame(X_train)\n",
    "breast_input.head()"
   ]
  },
  {
   "cell_type": "code",
   "execution_count": 26,
   "id": "db9996e9",
   "metadata": {},
   "outputs": [
    {
     "name": "stdout",
     "output_type": "stream",
     "text": [
      "GaussianNB()\n"
     ]
    }
   ],
   "source": [
    "#training the model\n",
    "\n",
    "model=GaussianNB()\n",
    "model.fit(X_train,Y_train)\n",
    "print(model)"
   ]
  },
  {
   "cell_type": "code",
   "execution_count": 27,
   "id": "cc3fb8ea",
   "metadata": {
    "scrolled": true
   },
   "outputs": [
    {
     "name": "stdout",
     "output_type": "stream",
     "text": [
      "              precision    recall  f1-score   support\n",
      "\n",
      "           0       0.98      0.93      0.95        43\n",
      "           1       0.96      0.99      0.97        71\n",
      "\n",
      "    accuracy                           0.96       114\n",
      "   macro avg       0.97      0.96      0.96       114\n",
      "weighted avg       0.97      0.96      0.96       114\n",
      "\n",
      "[[40  3]\n",
      " [ 1 70]]\n"
     ]
    }
   ],
   "source": [
    "# running the model on the test set\n",
    "\n",
    "expected = Y_test\n",
    "predicted = model.predict(X_test)\n",
    "\n",
    "print(metrics.classification_report(expected,predicted))\n",
    "print(metrics.confusion_matrix(expected,predicted))"
   ]
  }
 ],
 "metadata": {
  "kernelspec": {
   "display_name": "Python 3",
   "language": "python",
   "name": "python3"
  },
  "language_info": {
   "codemirror_mode": {
    "name": "ipython",
    "version": 3
   },
   "file_extension": ".py",
   "mimetype": "text/x-python",
   "name": "python",
   "nbconvert_exporter": "python",
   "pygments_lexer": "ipython3",
   "version": "3.8.8"
  }
 },
 "nbformat": 4,
 "nbformat_minor": 5
}
