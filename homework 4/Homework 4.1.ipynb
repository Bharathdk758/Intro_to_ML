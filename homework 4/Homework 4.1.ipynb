{
 "cells": [
  {
   "cell_type": "code",
   "execution_count": null,
   "id": "ae8cf925",
   "metadata": {},
   "outputs": [],
   "source": [
    "# Bharath Kumar Duraisamy Krishnamoorthi\n",
    "# 801315134\n",
    "# Homework 4"
   ]
  },
  {
   "cell_type": "code",
   "execution_count": 1,
   "id": "ae52ae2a",
   "metadata": {},
   "outputs": [],
   "source": [
    "#importing the necessary libraries\n",
    "\n",
    "import pandas as pd\n",
    "from sklearn.datasets import load_breast_cancer\n",
    "from sklearn import metrics\n",
    "from sklearn.svm import SVC\n",
    "import numpy as np\n",
    "import matplotlib.pyplot as plt\n",
    "from sklearn.model_selection import KFold \n",
    "from sklearn.model_selection import cross_val_score \n",
    "from sklearn import datasets"
   ]
  },
  {
   "cell_type": "code",
   "execution_count": 2,
   "id": "efdda350",
   "metadata": {},
   "outputs": [
    {
     "name": "stdout",
     "output_type": "stream",
     "text": [
      "(569, 30)\n"
     ]
    }
   ],
   "source": [
    "#loading the dataset\n",
    "\n",
    "breast = load_breast_cancer()\n",
    "X = breast.data\n",
    "print(X.shape)\n",
    "Y = breast.target"
   ]
  },
  {
   "cell_type": "code",
   "execution_count": 3,
   "id": "3de91811",
   "metadata": {},
   "outputs": [
    {
     "name": "stdout",
     "output_type": "stream",
     "text": [
      "1\n",
      "Accuracy: 0.9649122807017544\n",
      "Precision: 0.9487179487179487\n",
      "Recall: 1.0\n",
      " \n",
      "2\n",
      "Accuracy: 0.9736842105263158\n",
      "Precision: 0.9863013698630136\n",
      "Recall: 0.972972972972973\n",
      " \n",
      "3\n",
      "Accuracy: 0.9736842105263158\n",
      "Precision: 0.9863013698630136\n",
      "Recall: 0.972972972972973\n",
      " \n",
      "4\n",
      "Accuracy: 0.9824561403508771\n",
      "Precision: 0.9864864864864865\n",
      "Recall: 0.9864864864864865\n",
      " \n",
      "5\n",
      "Accuracy: 0.9824561403508771\n",
      "Precision: 0.9864864864864865\n",
      "Recall: 0.9864864864864865\n",
      " \n",
      "6\n",
      "Accuracy: 0.9824561403508771\n",
      "Precision: 0.9864864864864865\n",
      "Recall: 0.9864864864864865\n",
      " \n",
      "7\n",
      "Accuracy: 0.9824561403508771\n",
      "Precision: 0.9864864864864865\n",
      "Recall: 0.9864864864864865\n",
      " \n",
      "8\n",
      "Accuracy: 0.9824561403508771\n",
      "Precision: 0.9864864864864865\n",
      "Recall: 0.9864864864864865\n",
      " \n",
      "9\n",
      "Accuracy: 0.9824561403508771\n",
      "Precision: 0.9864864864864865\n",
      "Recall: 0.9864864864864865\n",
      " \n",
      "10\n",
      "Accuracy: 0.9824561403508771\n",
      "Precision: 0.9864864864864865\n",
      "Recall: 0.9864864864864865\n",
      " \n"
     ]
    }
   ],
   "source": [
    "# rbf kernel\n",
    "from sklearn.decomposition import PCA\n",
    "accuracy_rate1 = [] \n",
    "precision_rate1 = [] \n",
    "recall_rate1 = []\n",
    "for k in range(1,11):\n",
    "  pca = PCA(n_components = k)\n",
    "  principalComponents = pca.fit_transform(X)\n",
    "  principalDf = pd.DataFrame(data = principalComponents)\n",
    "  from sklearn.model_selection import train_test_split\n",
    "  X_train, X_test, Y_train, Y_test = train_test_split(principalComponents,Y, train_size=0.8, test_size=0.2, random_state = 60) \n",
    "  classifier = SVC(kernel = 'rbf', C = 1E2)\n",
    "  classifier.fit(X_train, Y_train)\n",
    "  Y_pred = classifier.predict(X_test)\n",
    "  from sklearn.metrics import confusion_matrix\n",
    "  cnf2_matrix = confusion_matrix(Y_test, Y_pred)\n",
    "  cnf2_matrix\n",
    "\n",
    "  accuracy_rate1.append(metrics.accuracy_score(Y_test, Y_pred)) \n",
    "  precision_rate1.append(metrics.precision_score(Y_test, Y_pred)) \n",
    "  recall_rate1.append(metrics.recall_score(Y_test, Y_pred))\n",
    "  print(k)\n",
    "  print(\"Accuracy:\",metrics.accuracy_score(Y_test, Y_pred))\n",
    "  print(\"Precision:\",metrics.precision_score(Y_test, Y_pred))\n",
    "  print(\"Recall:\",metrics.recall_score(Y_test, Y_pred))\n",
    "  print(\" \")"
   ]
  },
  {
   "cell_type": "code",
   "execution_count": 4,
   "id": "5ae6c973",
   "metadata": {},
   "outputs": [
    {
     "data": {
      "image/png": "[encoded data removed]",
      "text/plain": [
       "<Figure size 432x288 with 1 Axes>"
      ]
     },
     "metadata": {
      "needs_background": "light"
     },
     "output_type": "display_data"
    }
   ],
   "source": [
    "plt.figure(1)\n",
    "plt.plot(range(1, len(accuracy_rate1)+1) , accuracy_rate1 , color='r') \n",
    "plt.plot(range(1, len(precision_rate1)+1) , precision_rate1 , color='g') \n",
    "plt.plot(range(1, len(recall_rate1)+1) , recall_rate1 , color='b') \n",
    "plt.grid()\n",
    "plt.xlabel('Dimensions')\n",
    "plt.ylabel('%')\n",
    "plt.legend([\"Accuracy\", \"Precision (avg)\", \"Recall (avg)\"]) \n",
    "plt.title(\"RBF kernel\") ;"
   ]
  },
  {
   "cell_type": "code",
   "execution_count": 5,
   "id": "9710135f",
   "metadata": {},
   "outputs": [
    {
     "name": "stdout",
     "output_type": "stream",
     "text": [
      "1\n",
      "Accuracy: 0.9649122807017544\n",
      "Precision: 0.9487179487179487\n",
      "Recall: 1.0\n",
      "2\n",
      "Accuracy: 0.9736842105263158\n",
      "Precision: 0.9863013698630136\n",
      "Recall: 0.972972972972973\n",
      "3\n",
      "Accuracy: 0.9649122807017544\n",
      "Precision: 0.9861111111111112\n",
      "Recall: 0.9594594594594594\n",
      "4\n",
      "Accuracy: 0.9649122807017544\n",
      "Precision: 1.0\n",
      "Recall: 0.9459459459459459\n",
      "5\n",
      "Accuracy: 0.9736842105263158\n",
      "Precision: 1.0\n",
      "Recall: 0.9594594594594594\n",
      "6\n",
      "Accuracy: 0.956140350877193\n",
      "Precision: 0.9859154929577465\n",
      "Recall: 0.9459459459459459\n",
      "7\n",
      "Accuracy: 0.956140350877193\n",
      "Precision: 1.0\n",
      "Recall: 0.9324324324324325\n",
      "8\n",
      "Accuracy: 0.9649122807017544\n",
      "Precision: 0.9861111111111112\n",
      "Recall: 0.9594594594594594\n",
      "9\n",
      "Accuracy: 0.9473684210526315\n",
      "Precision: 0.9594594594594594\n",
      "Recall: 0.9594594594594594\n",
      "10\n",
      "Accuracy: 0.9649122807017544\n",
      "Precision: 0.9861111111111112\n",
      "Recall: 0.9594594594594594\n"
     ]
    }
   ],
   "source": [
    "# linear kernel\n",
    "from sklearn.decomposition import PCA\n",
    "accuracy_rate2 = [] \n",
    "precision_rate2 = [] \n",
    "recall_rate2 = []\n",
    "for k in range(1,11):\n",
    "  pca = PCA(n_components = k)\n",
    "  principalComponents = pca.fit_transform(X)\n",
    "  principalDf = pd.DataFrame(data = principalComponents)\n",
    "  from sklearn.model_selection import train_test_split\n",
    "  X_train, X_test, Y_train, Y_test = train_test_split(principalComponents,Y, train_size=0.8, test_size=0.2, random_state = 60) \n",
    "  classifier = SVC(kernel = 'linear', C = 1E2)\n",
    "  classifier.fit(X_train, Y_train)\n",
    "  Y_pred = classifier.predict(X_test)\n",
    "  from sklearn.metrics import confusion_matrix\n",
    "  cnf2_matrix = confusion_matrix(Y_test, Y_pred)\n",
    "  cnf2_matrix\n",
    "  #Let's evaluate the model using model evaluation metrics such as accuracy \n",
    "  accuracy_rate2.append(metrics.accuracy_score(Y_test, Y_pred)) \n",
    "  precision_rate2.append(metrics.precision_score(Y_test, Y_pred)) \n",
    "  recall_rate2.append(metrics.recall_score(Y_test, Y_pred))\n",
    "  print(k)\n",
    "  print(\"Accuracy:\",metrics.accuracy_score(Y_test, Y_pred))\n",
    "  print(\"Precision:\",metrics.precision_score(Y_test, Y_pred))\n",
    "  print(\"Recall:\",metrics.recall_score(Y_test, Y_pred))"
   ]
  },
  {
   "cell_type": "code",
   "execution_count": 6,
   "id": "6cc4c361",
   "metadata": {},
   "outputs": [
    {
     "data": {
      "image/png": "[encoded data removed]",
      "text/plain": [
       "<Figure size 432x288 with 1 Axes>"
      ]
     },
     "metadata": {
      "needs_background": "light"
     },
     "output_type": "display_data"
    }
   ],
   "source": [
    "plt.figure(1)\n",
    "plt.plot(range(1, len(accuracy_rate2)+1) , accuracy_rate2, color='r') \n",
    "plt.plot(range(1, len(precision_rate2)+1) , precision_rate2, color='g') \n",
    "plt.plot(range(1, len(recall_rate2)+1) , recall_rate2, color='b') \n",
    "plt.grid()\n",
    "plt.xlabel('Dimensions')\n",
    "plt.ylabel('%')\n",
    "plt.legend([\"Accuracy\", \"Precision (avg)\", \"Recall (avg)\"]) \n",
    "plt.title(\"Linear kernel\");"
   ]
  },
  {
   "cell_type": "code",
   "execution_count": 13,
   "id": "d36933db",
   "metadata": {},
   "outputs": [
    {
     "name": "stdout",
     "output_type": "stream",
     "text": [
      "1\n",
      "Accuracy: 0.9122807017543859\n",
      "Precision: 0.8809523809523809\n",
      "Recall: 1.0\n",
      "2\n",
      "Accuracy: 0.9122807017543859\n",
      "Precision: 0.8809523809523809\n",
      "Recall: 1.0\n",
      "3\n",
      "Accuracy: 0.9035087719298246\n",
      "Precision: 0.8705882352941177\n",
      "Recall: 1.0\n",
      "4\n",
      "Accuracy: 0.9035087719298246\n",
      "Precision: 0.8705882352941177\n",
      "Recall: 1.0\n",
      "5\n",
      "Accuracy: 0.9122807017543859\n",
      "Precision: 0.8809523809523809\n",
      "Recall: 1.0\n",
      "6\n",
      "Accuracy: 0.9122807017543859\n",
      "Precision: 0.8809523809523809\n",
      "Recall: 1.0\n",
      "7\n",
      "Accuracy: 0.9122807017543859\n",
      "Precision: 0.8809523809523809\n",
      "Recall: 1.0\n",
      "8\n",
      "Accuracy: 0.9122807017543859\n",
      "Precision: 0.8809523809523809\n",
      "Recall: 1.0\n",
      "9\n",
      "Accuracy: 0.9122807017543859\n",
      "Precision: 0.8809523809523809\n",
      "Recall: 1.0\n",
      "10\n",
      "Accuracy: 0.9122807017543859\n",
      "Precision: 0.8809523809523809\n",
      "Recall: 1.0\n"
     ]
    }
   ],
   "source": [
    "# linear kernel\n",
    "from sklearn.decomposition import PCA\n",
    "accuracy_rate2 = [] \n",
    "precision_rate2 = [] \n",
    "recall_rate2 = []\n",
    "for k in range(1,11):\n",
    "  pca = PCA(n_components = k)\n",
    "  principalComponents = pca.fit_transform(X)\n",
    "  principalDf = pd.DataFrame(data = principalComponents)\n",
    "  from sklearn.model_selection import train_test_split\n",
    "  X_train, X_test, Y_train, Y_test = train_test_split(principalComponents,Y, train_size=0.8, test_size=0.2, random_state = 60) \n",
    "  classifier = SVC(kernel = 'poly', C = 1E2)\n",
    "  classifier.fit(X_train, Y_train)\n",
    "  Y_pred = classifier.predict(X_test)\n",
    "  from sklearn.metrics import confusion_matrix\n",
    "  cnf2_matrix = confusion_matrix(Y_test, Y_pred)\n",
    "  cnf2_matrix\n",
    "  #Let's evaluate the model using model evaluation metrics such as accuracy \n",
    "  accuracy_rate2.append(metrics.accuracy_score(Y_test, Y_pred)) \n",
    "  precision_rate2.append(metrics.precision_score(Y_test, Y_pred)) \n",
    "  recall_rate2.append(metrics.recall_score(Y_test, Y_pred))\n",
    "  print(k)\n",
    "  print(\"Accuracy:\",metrics.accuracy_score(Y_test, Y_pred))\n",
    "  print(\"Precision:\",metrics.precision_score(Y_test, Y_pred))\n",
    "  print(\"Recall:\",metrics.recall_score(Y_test, Y_pred))"
   ]
  },
  {
   "cell_type": "code",
   "execution_count": 8,
   "id": "c6735024",
   "metadata": {},
   "outputs": [
    {
     "data": {
      "image/png": "[encoded data removed]",
      "text/plain": [
       "<Figure size 432x288 with 1 Axes>"
      ]
     },
     "metadata": {
      "needs_background": "light"
     },
     "output_type": "display_data"
    }
   ],
   "source": [
    "plt.figure(1)\n",
    "plt.plot(range(1, len(accuracy_rate3)+1) , accuracy_rate3, color='r') \n",
    "plt.plot(range(1, len(precision_rate3)+1) , precision_rate3, color='g') \n",
    "plt.plot(range(1, len(recall_rate3)+1) , recall_rate3, color='b') \n",
    "plt.grid()\n",
    "plt.xlabel('Dimensions')\n",
    "plt.ylabel('%')\n",
    "plt.legend([\"Accuracy\", \"Precision (avg)\", \"Recall (avg)\"]) \n",
    "plt.title(\"Polynomial kernel\");"
   ]
  },
  {
   "cell_type": "code",
   "execution_count": 12,
   "id": "2f774c0c",
   "metadata": {},
   "outputs": [
    {
     "name": "stdout",
     "output_type": "stream",
     "text": [
      "1\n",
      "Accuracy: 0.868421052631579\n",
      "Precision: 0.8734177215189873\n",
      "Recall: 0.9324324324324325\n",
      "2\n",
      "Accuracy: 0.8771929824561403\n",
      "Precision: 0.8846153846153846\n",
      "Recall: 0.9324324324324325\n",
      "3\n",
      "Accuracy: 0.8771929824561403\n",
      "Precision: 0.8846153846153846\n",
      "Recall: 0.9324324324324325\n",
      "4\n",
      "Accuracy: 0.8771929824561403\n",
      "Precision: 0.8846153846153846\n",
      "Recall: 0.9324324324324325\n",
      "5\n",
      "Accuracy: 0.8771929824561403\n",
      "Precision: 0.8846153846153846\n",
      "Recall: 0.9324324324324325\n",
      "6\n",
      "Accuracy: 0.8771929824561403\n",
      "Precision: 0.8846153846153846\n",
      "Recall: 0.9324324324324325\n",
      "7\n",
      "Accuracy: 0.8771929824561403\n",
      "Precision: 0.8846153846153846\n",
      "Recall: 0.9324324324324325\n",
      "8\n",
      "Accuracy: 0.8771929824561403\n",
      "Precision: 0.8846153846153846\n",
      "Recall: 0.9324324324324325\n",
      "9\n",
      "Accuracy: 0.8771929824561403\n",
      "Precision: 0.8846153846153846\n",
      "Recall: 0.9324324324324325\n",
      "10\n",
      "Accuracy: 0.8771929824561403\n",
      "Precision: 0.8846153846153846\n",
      "Recall: 0.9324324324324325\n"
     ]
    }
   ],
   "source": [
    "# linear kernel\n",
    "from sklearn.decomposition import PCA\n",
    "accuracy_rate2 = [] \n",
    "precision_rate2 = [] \n",
    "recall_rate2 = []\n",
    "for k in range(1,11):\n",
    "  pca = PCA(n_components = k)\n",
    "  principalComponents = pca.fit_transform(X)\n",
    "  principalDf = pd.DataFrame(data = principalComponents)\n",
    "  from sklearn.model_selection import train_test_split\n",
    "  X_train, X_test, Y_train, Y_test = train_test_split(principalComponents,Y, train_size=0.8, test_size=0.2, random_state = 60) \n",
    "  classifier = SVC(kernel = 'sigmoid', C = 1E2)\n",
    "  classifier.fit(X_train, Y_train)\n",
    "  Y_pred = classifier.predict(X_test)\n",
    "  from sklearn.metrics import confusion_matrix\n",
    "  cnf2_matrix = confusion_matrix(Y_test, Y_pred)\n",
    "  cnf2_matrix\n",
    "  #Let's evaluate the model using model evaluation metrics such as accuracy \n",
    "  accuracy_rate2.append(metrics.accuracy_score(Y_test, Y_pred)) \n",
    "  precision_rate2.append(metrics.precision_score(Y_test, Y_pred)) \n",
    "  recall_rate2.append(metrics.recall_score(Y_test, Y_pred))\n",
    "  print(k)\n",
    "  print(\"Accuracy:\",metrics.accuracy_score(Y_test, Y_pred))\n",
    "  print(\"Precision:\",metrics.precision_score(Y_test, Y_pred))\n",
    "  print(\"Recall:\",metrics.recall_score(Y_test, Y_pred))"
   ]
  },
  {
   "cell_type": "code",
   "execution_count": 11,
   "id": "19d79cf2",
   "metadata": {},
   "outputs": [
    {
     "data": {
      "image/png": "[encoded data removed]",
      "text/plain": [
       "<Figure size 432x288 with 1 Axes>"
      ]
     },
     "metadata": {
      "needs_background": "light"
     },
     "output_type": "display_data"
    }
   ],
   "source": [
    "plt.figure(1)\n",
    "plt.plot(range(1, len(accuracy_rate4)+1) , accuracy_rate4, color='r') \n",
    "plt.plot(range(1, len(precision_rate4)+1) , precision_rate4, color='g') \n",
    "plt.plot(range(1, len(recall_rate4)+1) , recall_rate4, color='b') \n",
    "plt.grid()\n",
    "plt.xlabel('Dimensions')\n",
    "plt.ylabel('%')\n",
    "plt.legend([\"Accuracy\", \"Precision (avg)\", \"Recall (avg)\"]) \n",
    "plt.title(\"sigmoid kernel\");"
   ]
  }
 ],
 "metadata": {
  "kernelspec": {
   "display_name": "Python 3",
   "language": "python",
   "name": "python3"
  },
  "language_info": {
   "codemirror_mode": {
    "name": "ipython",
    "version": 3
   },
   "file_extension": ".py",
   "mimetype": "text/x-python",
   "name": "python",
   "nbconvert_exporter": "python",
   "pygments_lexer": "ipython3",
   "version": "3.8.8"
  }
 },
 "nbformat": 4,
 "nbformat_minor": 5
}
